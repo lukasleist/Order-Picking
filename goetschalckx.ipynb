{
 "cells": [
  {
   "cell_type": "markdown",
   "metadata": {},
   "source": [
    "# Algorithms for determinig cluster order picking strategies\n",
    "\n",
    "This notebook explains and demonstrates the algorithms for finding strategies for \"Cluster Order Picking\" proposed by Goetschalckx and Ratliff (1988)\n",
    "\n",
    "## Imports"
   ]
  },
  {
   "cell_type": "code",
   "execution_count": 1,
   "metadata": {},
   "outputs": [],
   "source": [
    "import time\n",
    "from datetime import datetime\n",
    "from math import sqrt\n",
    "import numpy as np\n",
    "import pandas as pd\n",
    "import matplotlib.pyplot as plt\n",
    "from random import Random"
   ]
  },
  {
   "cell_type": "markdown",
   "metadata": {},
   "source": [
    "## Beschreibung des Problems\n",
    "\n",
    "### Ziel\n",
    "Minimierung der Komissionierdauer für die gesamte Bestellung (picking-time)\n",
    "\n",
    "### Parameter\n",
    "- a) round-trip-walking-time\n",
    "- b) time-to-start-stop ($f$)\n",
    "- c) driving time (independent from stops)\n",
    "- d) time to pick items (independent from stops)\n",
    "- e) time to stack items (independent from stops)\n",
    "- distance from beginning of ailse to pick $i$: $a_{i}$\n",
    "- distance from beginning of aisle to stop $j$: $z_{j}$\n",
    "- width of aisle $A$\n",
    "- distance between stop $j$ and pick $i$: $d_{ji }$ (Siehe Distanzmaße)\n",
    "- number of items to be picked in aisle $N$\n",
    "- Laufgeschwindigkeit des Kommissionierers zwischen Regalplatz und Komissionierfahrzeug: $v$\n",
    "- total time per stop (roundtriptime to picks) $c_{j}=f+ 2 \\sum_{i \\in P_{j}} d_{ij}/v$"
   ]
  },
  {
   "cell_type": "markdown",
   "metadata": {},
   "source": [
    "### Distanzmaße\n",
    "Der Algorithmus kann mit zwei verschiedenen Distanzmaßen verwendet werden. Praktisch sind die Ergebnisse, die mit den beiden Distanzmaßen meist identisch oder weichen nur sehr gering voneinander ab. Für den Praktischen Einsatz wird deshalb *Rectilinear*, aufgrund der geringeren Laufzeit empfohlen. (Zitat)\n",
    "\n",
    "#### Euclidean\n",
    "Distanz von stop $j$ zu pick $i$ bei einer Gangbreite von $A$ nach *euklidischem* Abstand:\n",
    "\n",
    "$$ d_{ij} = \\sqrt{(a_{i}-z_{j})^2+ (A/2)^2} $$"
   ]
  },
  {
   "cell_type": "code",
   "execution_count": 2,
   "metadata": {},
   "outputs": [],
   "source": [
    "def distance_euklidean(stop_position, pick_position, aisle_width):\n",
    "    return sqrt((pick_position - stop_position)**2+(aisle_width/2)**2)"
   ]
  },
  {
   "cell_type": "code",
   "execution_count": 3,
   "metadata": {},
   "outputs": [
    {
     "data": {
      "text/plain": [
       "3.640054944640259"
      ]
     },
     "execution_count": 3,
     "metadata": {},
     "output_type": "execute_result"
    }
   ],
   "source": [
    "# Example:\n",
    "distance_euklidean(3, 4, 7)"
   ]
  },
  {
   "cell_type": "markdown",
   "metadata": {},
   "source": [
    "#### Rectilinear\n",
    "Distanz von stop $j$ zu pick $i$ bei einer Gangbreite von $A$ nach *rectilinearem* Abstand:\n",
    "\n",
    "$$ d_{ij} = |(a_{i}-z_{j})| + (A/2) $$"
   ]
  },
  {
   "cell_type": "code",
   "execution_count": 4,
   "metadata": {},
   "outputs": [],
   "source": [
    "def distance_rectilinear(stop_position, pick_position, aisle_width):\n",
    "    return abs(pick_position - stop_position) + aisle_width/2"
   ]
  },
  {
   "cell_type": "code",
   "execution_count": 5,
   "metadata": {},
   "outputs": [
    {
     "data": {
      "text/plain": [
       "6.0"
      ]
     },
     "execution_count": 5,
     "metadata": {},
     "output_type": "execute_result"
    }
   ],
   "source": [
    "# Example:\n",
    "distance_rectilinear(3, 7, 4)"
   ]
  },
  {
   "cell_type": "markdown",
   "metadata": {},
   "source": [
    "## Kostenfunktion\n",
    "Da Ziel ist die Komissionierzeit zu minimieren, misst die Kostenkunktion die Dauer des Komissioniervorgangs.\n",
    "Die Kosten $c_{j}$ für eine Menge zu pickender Items $P_{j}$ bei einem Stop $j$ sind gegeben durch:\n",
    "$$ c_{j}=f+ 2 \\sum_{i \\in P_{j}} d_{ij}/v $$\n",
    "wobei die Berechnung abhängig von der Wahl des Distanzmaßes ist."
   ]
  },
  {
   "cell_type": "code",
   "execution_count": 6,
   "metadata": {},
   "outputs": [],
   "source": [
    "def cost_measure(item_positions, stop_position, walking_speed, time_to_start_stop, aisle_width,\n",
    "                 distance_measure):\n",
    "    return time_to_start_stop + 2*sum([distance_measure(stop_position, i, aisle_width)/walking_speed for i in item_positions])"
   ]
  },
  {
   "cell_type": "code",
   "execution_count": 7,
   "metadata": {},
   "outputs": [
    {
     "data": {
      "text/plain": [
       "20.60112615949154"
      ]
     },
     "execution_count": 7,
     "metadata": {},
     "output_type": "execute_result"
    }
   ],
   "source": [
    "# Example\n",
    "cost_measure([1,2,3,4], 2, 1, 2, 4, distance_euklidean)"
   ]
  },
  {
   "cell_type": "markdown",
   "metadata": {},
   "source": [
    "## Optimale Stops\n",
    "Algorithmus zur Bestimmung der Optimalen Stopstrategie bei frei positionierbaren stops\n",
    "### Eigenschaften:\n",
    "1. Items werden immer beim Stop mit der geringsten Entfernung aufgeladen.\n",
    "\n",
    "2. Items picked at the same stop are in one line on both sides by the order which does not contain cases picked at other stops.\n",
    "    - Blockstruktur: Alle Alle Items, die bei einem Stop aufgladen werden, liegen sind in einer ununterbrochenen Reihe (Block)\n",
    "\n",
    "3. Optimale Halteposition $z_{j}$ bei einer vorgegebenen Menge von zu ladenden Items $P_{j}$ mit *euklidischem* Distanzmaß (Iterativer Prozess): ( the optimal stoplocation ($z_{j}$) for a given set of picks $(P_{j})$ under *euclidean* distannce (single facility *Euclidean* location problem) is determined by (iterative procedure):\n",
    "$$z_{j}=\\frac{ \\sum_{i \\in P_{j}} a_{i}/d_{ij} }{\\sum_{i \\in P_{j}} 1/d_{ij}}$$"
   ]
  },
  {
   "cell_type": "code",
   "execution_count": 8,
   "metadata": {},
   "outputs": [],
   "source": [
    "def optimal_stop_euclidean(item_positions, aisle_width, starting_point=0, iterations=10):\n",
    "    z = starting_point\n",
    "    for _ in range(iterations):\n",
    "        distances = [distance_euklidean(z, a, aisle_width) for a in item_positions]\n",
    "        z = sum(a/d for (a,d) in zip(item_positions, distances)) / sum(1/d for d in distances)\n",
    "    return z"
   ]
  },
  {
   "cell_type": "code",
   "execution_count": 9,
   "metadata": {},
   "outputs": [
    {
     "data": {
      "text/plain": [
       "4.834449438734148"
      ]
     },
     "execution_count": 9,
     "metadata": {},
     "output_type": "execute_result"
    }
   ],
   "source": [
    "# Example\n",
    "optimal_stop_euclidean([2,5,7], 4)"
   ]
  },
  {
   "cell_type": "markdown",
   "metadata": {},
   "source": [
    "4. Optimale Halteposition $z_{j}$ bei einer vorgegebenen Menge von zu ladenden Items $P_{j}$ (aufsteigend sortiert) mit *rectilinearem* Distanzmaß:\n",
    "    - $|P_{j}|$ ungerade: Position des Items in der Mitte\n",
    "    - $|P_{j}|$ ungerade: Alle Positionen zwischen den beiden Mittleren sind optimal (Implementierung wählt die Mitte)"
   ]
  },
  {
   "cell_type": "code",
   "execution_count": 10,
   "metadata": {},
   "outputs": [],
   "source": [
    "def optimal_stop_rectilinear(item_positions, aisle_width):\n",
    "    sorted = list(item_positions) # copy list\n",
    "    length = len(sorted)\n",
    "    sorted.sort()\n",
    "    if length % 2:\n",
    "        return sorted[int(length/2)]\n",
    "    else:\n",
    "        return (sorted[int(length/2)] + sorted[int(length/2) -1])/2"
   ]
  },
  {
   "cell_type": "code",
   "execution_count": 11,
   "metadata": {},
   "outputs": [
    {
     "data": {
      "text/plain": [
       "7"
      ]
     },
     "execution_count": 11,
     "metadata": {},
     "output_type": "execute_result"
    }
   ],
   "source": [
    "# Example\n",
    "optimal_stop_rectilinear([2,5,7,100,1000], 4)"
   ]
  },
  {
   "cell_type": "markdown",
   "metadata": {},
   "source": [
    "## Dynamische Programmierung\n",
    "Implementierung, des Algorithmus"
   ]
  },
  {
   "cell_type": "code",
   "execution_count": 12,
   "metadata": {},
   "outputs": [],
   "source": [
    "def optimal_stops(item_positions, aisle_width,\n",
    "                  walking_speed,\n",
    "                  time_to_start_stop,\n",
    "                  distance_measure=distance_euklidean,\n",
    "                  optimal_stop_func=optimal_stop_euclidean,\n",
    "                  cost_measure=cost_measure,\n",
    "                  **kwargs):\n",
    "    \"\"\"\n",
    "    Calculates optimal number of stops and items picked per stop\n",
    "    :returns: list containing the optimal item sets and the target value for the calculated solution\n",
    "    \"\"\"\n",
    "    # Adding artificial first elemenmt\n",
    "    sorted_items = [0] + list(item_positions)\n",
    "    sorted_items.sort()\n",
    "    \n",
    "    # Adding artificial first element\n",
    "    path_lengths = [float('inf')] * len(sorted_items)\n",
    "    path_lengths[0] = 0\n",
    "    optimal_predecessors = [0] * len(sorted_items)\n",
    "    \n",
    "    for index, item in enumerate(sorted_items[1:], 1):\n",
    "        #print('Item: {} at index: {}'.format(item, index))\n",
    "        for pred_index, pred_item in enumerate(sorted_items[:index]):\n",
    "            #print(pred_item, pred_index)\n",
    "            item_set = sorted_items[pred_index+1:index+1]\n",
    "            optimal_location = optimal_stop_func(item_set, aisle_width=aisle_width)\n",
    "            arc_length = cost_measure(\n",
    "                item_set,\n",
    "                stop_position=optimal_location,\n",
    "                walking_speed=walking_speed,\n",
    "                time_to_start_stop=time_to_start_stop,\n",
    "                aisle_width=aisle_width,\n",
    "                distance_measure=distance_measure\n",
    "            )\n",
    "            if path_lengths[index] > (path_lengths[pred_index] + arc_length):\n",
    "                path_lengths[index] = path_lengths[pred_index] + arc_length\n",
    "                optimal_predecessors[index] = pred_index\n",
    "    \n",
    "    target_value = path_lengths[-1]\n",
    "    item_sets = list()\n",
    "    index = len(optimal_predecessors) - 1\n",
    "    while index > 0:\n",
    "        pred_index = optimal_predecessors[index]\n",
    "        item_sets.append(tuple(sorted_items[pred_index+1:index+1]))\n",
    "        index = pred_index\n",
    "    item_sets.reverse()\n",
    "    return item_sets, target_value"
   ]
  },
  {
   "cell_type": "code",
   "execution_count": 13,
   "metadata": {},
   "outputs": [
    {
     "data": {
      "text/plain": [
       "([(1, 2, 3, 4, 5, 6, 7), (100,), (2000, 2000)], 6.525024734715915)"
      ]
     },
     "execution_count": 13,
     "metadata": {},
     "output_type": "execute_result"
    }
   ],
   "source": [
    "# Example\n",
    "item_positions = [2000,2000, 100, 2, 1, 3, 4,5,6,7]\n",
    "optimal_stops(item_positions, aisle_width=2, walking_speed=10, time_to_start_stop=1)"
   ]
  },
  {
   "cell_type": "markdown",
   "metadata": {},
   "source": [
    "## Erweiterung um Fernsteuerung\n",
    "Das Komissionierfahrzeug bietet zwei Möglichkeiten den nächsten Stop zu erreiche:\n",
    "- Fahren: Der Kommissionierer besteigt das Fahrzeug und fährt zum nächsten Stop\n",
    "- Rufen: Der Komissionierer läuft zum nächsten Stop, und löst über die Fernbedinung die Automatische Fahrt des Komissionierfahrzeugs zum Stop aus. Modelliert werden diese beiden zwei Arten von stops durch eine erweiterung der \"**_time_to_start_stop_**:\n",
    "\n",
    "**_time_to_start_stop_** wird funktional abhängig von folgenden parametern:\n",
    " - **_distance_between_stops_** zusammengesetzt aus:\n",
    "     - vorheriger stop\n",
    "     - aktueller stop\n",
    " - **_time_to_mount_unmount_**: Zeit, die bei der fahrt mit dem Komissionierfahrzeug anfällt (entspricht \"originaler\" **_time_to_start_stop_** )\n",
    " - **_walking_speed_**\n",
    " - **_time_to_call_**: Zeit, die für das \"rufen\" bzw. die Fernsteuerung des Komissionierfahrzeugs benötigt wird\n",
    " - **_remote_traveling_speed_**: Geschwindigkeit des Komissionierfahrzeugs wenn es sich ohne Fahrer bewegt\n",
    " - **_time_to_wait_**: Zeit, bis das ferngesteuerte Komissionierfahrzeug beim Komissionierer Eintrifft, zusamengesetzt aus:\n",
    "     - **_distance_between_stops_**\n",
    "     - **_remote_travelling_speed_**\n",
    "\n",
    "Die **_time_to_start_stop_** ist immer das Minimum aus der **_time_to_mount_unmount_** (Komissionierer \"fährt\" zu nächstem stop) und der Zeit die es benötigt, zum nächsten stop zu laufen, dort das Fahrzeug zu rufen und dann auf die Ankunft zu warten."
   ]
  },
  {
   "cell_type": "code",
   "execution_count": 14,
   "metadata": {},
   "outputs": [],
   "source": [
    "def calculate_time_to_start_stop(last_stop, current_stop, time_to_mount, walking_speed, time_to_call, remote_travelling_speed):\n",
    "    \"\"\"\n",
    "    returns a tuple with the first value beeing the calculated time and the second value beeing 1\n",
    "    for a remote_controlled_stop and 0 for a driven halt\n",
    "    \"\"\"\n",
    "    d = abs(last_stop - current_stop)\n",
    "    walk_time = d / walking_speed\n",
    "    call_time = d / remote_travelling_speed # time till cart arrives at the workers place if called\n",
    "    calling = (walk_time + call_time + time_to_call)\n",
    "    \n",
    "    if calling < time_to_mount:\n",
    "        # print('calling')\n",
    "        return calling, 1\n",
    "    else:\n",
    "        # print('riding')\n",
    "        return time_to_mount, 0\n",
    "    \n",
    "    \n",
    "def modified_cost_measure(item_positions, stop_position, last_stop_position, walking_speed,\n",
    "                          remote_travelling_speed, time_to_call, time_to_mount,\n",
    "                          aisle_width, distance_measure, return_stop_type=False):\n",
    "    \"\"\"\n",
    "    Calculates the cost for a stop\n",
    "    additionally if return_type=True returns a tuple with the second value beeing 1\n",
    "    for a remote_controlled_stop and 0 for a driven one\n",
    "    \"\"\"\n",
    "    \n",
    "    collecting_time = 2*sum([\n",
    "        distance_measure(stop_position, i, aisle_width)/walking_speed for i in item_positions\n",
    "    ])\n",
    "    \n",
    "    calculated_time, stop_type = calculate_time_to_start_stop(\n",
    "            last_stop=last_stop_position,\n",
    "            current_stop=stop_position,\n",
    "            time_to_mount=time_to_mount,\n",
    "            walking_speed=walking_speed,\n",
    "            time_to_call=time_to_call,\n",
    "            remote_travelling_speed=remote_travelling_speed\n",
    "        )\n",
    "    if return_stop_type:\n",
    "        return calculated_time + collecting_time, stop_type\n",
    "    else:\n",
    "        return calculated_time + collecting_time"
   ]
  },
  {
   "cell_type": "code",
   "execution_count": 15,
   "metadata": {},
   "outputs": [],
   "source": [
    "def modified_optimal_stops(item_positions, aisle_width,\n",
    "                walking_speed,\n",
    "                remote_travelling_speed,\n",
    "                time_to_call,\n",
    "                time_to_start_stop,\n",
    "                distance_measure=distance_euklidean,\n",
    "                optimal_stop_func=optimal_stop_euclidean,\n",
    "                cost_measure=modified_cost_measure,\n",
    "                **kwargs):\n",
    "    \"\"\"\n",
    "    Calculates optimal number of stops and items picked per stop\n",
    "    :returns: list containing the optimal item sets and the target value for the calculated solution\n",
    "    \"\"\"\n",
    "    # Adding artificial first elemenmt\n",
    "    sorted_items = [0] + list(item_positions)\n",
    "    sorted_items.sort()\n",
    "    \n",
    "    # Adding artificial first element\n",
    "    path_lengths = [float('inf')] * len(sorted_items)\n",
    "    path_lengths[0] = 0\n",
    "    optimal_predecessors = [0] * len(sorted_items)\n",
    "    \n",
    "    for index, item in enumerate(sorted_items[1:], 1):\n",
    "        #print('Item: {} at index: {}'.format(item, index))\n",
    "        for pred_index, pred_item in enumerate(sorted_items[:index]):\n",
    "            #print(pred_item, pred_index)\n",
    "            item_set = sorted_items[pred_index+1:index+1]\n",
    "            optimal_location = optimal_stop_func(item_set, aisle_width=aisle_width)\n",
    "            \n",
    "            last_item_set = sorted_items[optimal_predecessors[pred_index]+1:pred_index+1]\n",
    "            \n",
    "            try:\n",
    "                last_optimal_location = optimal_stop_func(last_item_set, aisle_width=aisle_width)\n",
    "            except ZeroDivisionError:\n",
    "                last_optimal_location = 0\n",
    "                # print('item: {}, pred_item: {}, item_set: {}, last_item_set: {}'.format(\n",
    "                #    index, pred_index, item_set, last_item_set\n",
    "                #))\n",
    "            \n",
    "            \n",
    "            arc_length = cost_measure(\n",
    "                item_set,\n",
    "                stop_position=optimal_location,\n",
    "                last_stop_position=last_optimal_location,\n",
    "                walking_speed=walking_speed,\n",
    "                remote_travelling_speed=remote_travelling_speed,\n",
    "                time_to_call=time_to_call,\n",
    "                time_to_mount=time_to_start_stop,\n",
    "                aisle_width=aisle_width,\n",
    "                distance_measure=distance_measure\n",
    "            )\n",
    "            if path_lengths[index] > (path_lengths[pred_index] + arc_length):\n",
    "                path_lengths[index] = path_lengths[pred_index] + arc_length\n",
    "                optimal_predecessors[index] = pred_index\n",
    "    \n",
    "    target_value = path_lengths[-1]\n",
    "    item_sets = list()\n",
    "    index = len(optimal_predecessors) - 1\n",
    "    while index > 0:\n",
    "        pred_index = optimal_predecessors[index]\n",
    "        item_sets.append(tuple(sorted_items[pred_index+1:index+1]))\n",
    "        index = pred_index\n",
    "    item_sets.reverse()\n",
    "    return item_sets, target_value"
   ]
  },
  {
   "cell_type": "code",
   "execution_count": 16,
   "metadata": {},
   "outputs": [
    {
     "data": {
      "text/plain": [
       "([(1, 2, 3, 4, 5, 6, 7), (100,), (2000, 2000)], 6.525024734715915)"
      ]
     },
     "execution_count": 16,
     "metadata": {},
     "output_type": "execute_result"
    }
   ],
   "source": [
    "# Example\n",
    "item_positions = [2000,2000, 100, 2, 1, 3, 4,5,6,7]\n",
    "modified_optimal_stops(item_positions, aisle_width=2,\n",
    "                       walking_speed=10,\n",
    "                       remote_travelling_speed=.001,\n",
    "                       time_to_call=1000, time_to_start_stop=1)"
   ]
  },
  {
   "cell_type": "markdown",
   "metadata": {},
   "source": [
    "## Rechenstudie\n",
    "### Parameter"
   ]
  },
  {
   "cell_type": "code",
   "execution_count": 17,
   "metadata": {},
   "outputs": [],
   "source": [
    "def generate_item_positions(aisle_length, number_of_picks=None, random=Random('seed')):\n",
    "    items = [random.uniform(0, aisle_length) for r in range(number_of_picks)]\n",
    "    return items\n",
    "        "
   ]
  },
  {
   "cell_type": "code",
   "execution_count": 18,
   "metadata": {},
   "outputs": [
    {
     "data": {
      "text/plain": [
       "[13.823597922096532,\n",
       " 23.670923666908305,\n",
       " 86.50300528647699,\n",
       " 28.626507136857025,\n",
       " 4.325157940991986,\n",
       " 96.57931468591995,\n",
       " 72.60302506328844,\n",
       " 60.76148550443735,\n",
       " 52.839959055186135,\n",
       " 65.8273349814433]"
      ]
     },
     "execution_count": 18,
     "metadata": {},
     "output_type": "execute_result"
    }
   ],
   "source": [
    "# Example:\n",
    "generate_item_positions(100, 10)"
   ]
  },
  {
   "cell_type": "markdown",
   "metadata": {},
   "source": [
    "### Berechnung"
   ]
  },
  {
   "cell_type": "code",
   "execution_count": 19,
   "metadata": {},
   "outputs": [],
   "source": [
    "aisle_length = 70 # Fiction: whole warehouse is a single long aisle\n",
    "max_picks = 40\n",
    "\n",
    "\n",
    "aisle_width = 3 #(3 Pallet locations)\n",
    "walking_speed = 1.2\n",
    "times_to_start_stop = (60, 30, 15, 7, 5)\n",
    "times_to_call = (0, 1, 2.5, 5, 10)\n",
    "remote_travelling_speeds = (1, 2, 5, 10, float('inf'))\n",
    "\n"
   ]
  },
  {
   "cell_type": "code",
   "execution_count": 20,
   "metadata": {},
   "outputs": [],
   "source": [
    "def calc_distances(cluster_list, aisle_width, time_to_mount, walking_speed, time_to_call, remote_travelling_speed):\n",
    "    \"\"\"\n",
    "    returns the optimal stop positions based on a given list of items to be comissioned at one stop\n",
    "    \"\"\"\n",
    "    halting_points = []\n",
    "    halting_points.append(optimal_stop_euclidean(cluster_list[0], aisle_width))\n",
    "    distances = []\n",
    "    \n",
    "    for index, cluster in enumerate(cluster_list[1:], 1):\n",
    "        halting_points.append(optimal_stop_euclidean(cluster, aisle_width))\n",
    "        _, travel_type = calculate_time_to_start_stop(\n",
    "            last_stop=halting_points[index-1],\n",
    "            current_stop = halting_points[index],\n",
    "            time_to_mount=time_to_mount,\n",
    "            walking_speed=walking_speed,\n",
    "            time_to_call=time_to_call,\n",
    "            remote_travelling_speed=remote_travelling_speed\n",
    "        )\n",
    "        distances.append(\n",
    "            (halting_points[index]-halting_points[index-1], travel_type)\n",
    "        )\n",
    "        \n",
    "    return distances"
   ]
  },
  {
   "cell_type": "code",
   "execution_count": 21,
   "metadata": {},
   "outputs": [
    {
     "data": {
      "text/plain": [
       "[(3.500002730181031, 1), (94.00000003760425, 0), (1900.0, 0)]"
      ]
     },
     "execution_count": 21,
     "metadata": {},
     "output_type": "execute_result"
    }
   ],
   "source": [
    "# Example\n",
    "calc_distances([(1, 2, 3, 4), (5, 6, 7), (100,), (2000, 2000)], 3, 60, 1.2, 0, 10)"
   ]
  },
  {
   "cell_type": "code",
   "execution_count": 28,
   "metadata": {
    "scrolled": true
   },
   "outputs": [
    {
     "ename": "KeyboardInterrupt",
     "evalue": "",
     "output_type": "error",
     "traceback": [
      "\u001b[1;31m---------------------------------------------------------------------------\u001b[0m",
      "\u001b[1;31mKeyboardInterrupt\u001b[0m                         Traceback (most recent call last)",
      "\u001b[1;32m<ipython-input-28-5bfc8dcec009>\u001b[0m in \u001b[0;36m<module>\u001b[1;34m\u001b[0m\n\u001b[0;32m     77\u001b[0m                         \u001b[1;34m'stops_difference'\u001b[0m\u001b[1;33m:\u001b[0m \u001b[0mfloat\u001b[0m\u001b[1;33m(\u001b[0m\u001b[0mlen\u001b[0m\u001b[1;33m(\u001b[0m\u001b[0mmod_result\u001b[0m\u001b[1;33m[\u001b[0m\u001b[1;36m0\u001b[0m\u001b[1;33m]\u001b[0m\u001b[1;33m)\u001b[0m \u001b[1;33m-\u001b[0m \u001b[0mlen\u001b[0m\u001b[1;33m(\u001b[0m\u001b[0mbase_result\u001b[0m\u001b[1;33m[\u001b[0m\u001b[1;36m0\u001b[0m\u001b[1;33m]\u001b[0m\u001b[1;33m)\u001b[0m\u001b[1;33m)\u001b[0m\u001b[1;33m,\u001b[0m\u001b[1;33m\u001b[0m\u001b[1;33m\u001b[0m\u001b[0m\n\u001b[0;32m     78\u001b[0m                         \u001b[1;34m'cost_difference'\u001b[0m\u001b[1;33m:\u001b[0m \u001b[0mfloat\u001b[0m\u001b[1;33m(\u001b[0m\u001b[0mmod_result\u001b[0m\u001b[1;33m[\u001b[0m\u001b[1;36m1\u001b[0m\u001b[1;33m]\u001b[0m \u001b[1;33m-\u001b[0m \u001b[0mbase_result\u001b[0m\u001b[1;33m[\u001b[0m\u001b[1;36m1\u001b[0m\u001b[1;33m]\u001b[0m\u001b[1;33m)\u001b[0m\u001b[1;33m\u001b[0m\u001b[1;33m\u001b[0m\u001b[0m\n\u001b[1;32m---> 79\u001b[1;33m                     }, ignore_index=True)\n\u001b[0m\u001b[0;32m     80\u001b[0m \u001b[1;33m\u001b[0m\u001b[0m\n\u001b[0;32m     81\u001b[0m \u001b[0mcomparisons\u001b[0m\u001b[1;33m.\u001b[0m\u001b[0mto_csv\u001b[0m\u001b[1;33m(\u001b[0m\u001b[1;34m'comparisons-{}.csv'\u001b[0m\u001b[1;33m.\u001b[0m\u001b[0mformat\u001b[0m\u001b[1;33m(\u001b[0m\u001b[0mcomparisons\u001b[0m\u001b[1;33m.\u001b[0m\u001b[0mshape\u001b[0m\u001b[1;33m)\u001b[0m\u001b[1;33m)\u001b[0m\u001b[1;33m\u001b[0m\u001b[1;33m\u001b[0m\u001b[0m\n",
      "\u001b[1;32mc:\\users\\lukas\\.virtualenvs\\implementierung-hib91jc7\\lib\\site-packages\\pandas\\core\\frame.py\u001b[0m in \u001b[0;36mappend\u001b[1;34m(self, other, ignore_index, verify_integrity, sort)\u001b[0m\n\u001b[0;32m   7116\u001b[0m                 \u001b[0mother\u001b[0m\u001b[1;33m.\u001b[0m\u001b[0mvalues\u001b[0m\u001b[1;33m.\u001b[0m\u001b[0mreshape\u001b[0m\u001b[1;33m(\u001b[0m\u001b[1;33m(\u001b[0m\u001b[1;36m1\u001b[0m\u001b[1;33m,\u001b[0m \u001b[0mlen\u001b[0m\u001b[1;33m(\u001b[0m\u001b[0mother\u001b[0m\u001b[1;33m)\u001b[0m\u001b[1;33m)\u001b[0m\u001b[1;33m)\u001b[0m\u001b[1;33m,\u001b[0m\u001b[1;33m\u001b[0m\u001b[1;33m\u001b[0m\u001b[0m\n\u001b[0;32m   7117\u001b[0m                 \u001b[0mindex\u001b[0m\u001b[1;33m=\u001b[0m\u001b[0mindex\u001b[0m\u001b[1;33m,\u001b[0m\u001b[1;33m\u001b[0m\u001b[1;33m\u001b[0m\u001b[0m\n\u001b[1;32m-> 7118\u001b[1;33m                 \u001b[0mcolumns\u001b[0m\u001b[1;33m=\u001b[0m\u001b[0mcombined_columns\u001b[0m\u001b[1;33m,\u001b[0m\u001b[1;33m\u001b[0m\u001b[1;33m\u001b[0m\u001b[0m\n\u001b[0m\u001b[0;32m   7119\u001b[0m             )\n\u001b[0;32m   7120\u001b[0m             \u001b[0mother\u001b[0m \u001b[1;33m=\u001b[0m \u001b[0mother\u001b[0m\u001b[1;33m.\u001b[0m\u001b[0m_convert\u001b[0m\u001b[1;33m(\u001b[0m\u001b[0mdatetime\u001b[0m\u001b[1;33m=\u001b[0m\u001b[1;32mTrue\u001b[0m\u001b[1;33m,\u001b[0m \u001b[0mtimedelta\u001b[0m\u001b[1;33m=\u001b[0m\u001b[1;32mTrue\u001b[0m\u001b[1;33m)\u001b[0m\u001b[1;33m\u001b[0m\u001b[1;33m\u001b[0m\u001b[0m\n",
      "\u001b[1;32mc:\\users\\lukas\\.virtualenvs\\implementierung-hib91jc7\\lib\\site-packages\\pandas\\core\\frame.py\u001b[0m in \u001b[0;36m__init__\u001b[1;34m(self, data, index, columns, dtype, copy)\u001b[0m\n\u001b[0;32m    438\u001b[0m                 \u001b[0mmgr\u001b[0m \u001b[1;33m=\u001b[0m \u001b[0minit_dict\u001b[0m\u001b[1;33m(\u001b[0m\u001b[1;33m{\u001b[0m\u001b[0mdata\u001b[0m\u001b[1;33m.\u001b[0m\u001b[0mname\u001b[0m\u001b[1;33m:\u001b[0m \u001b[0mdata\u001b[0m\u001b[1;33m}\u001b[0m\u001b[1;33m,\u001b[0m \u001b[0mindex\u001b[0m\u001b[1;33m,\u001b[0m \u001b[0mcolumns\u001b[0m\u001b[1;33m,\u001b[0m \u001b[0mdtype\u001b[0m\u001b[1;33m=\u001b[0m\u001b[0mdtype\u001b[0m\u001b[1;33m)\u001b[0m\u001b[1;33m\u001b[0m\u001b[1;33m\u001b[0m\u001b[0m\n\u001b[0;32m    439\u001b[0m             \u001b[1;32melse\u001b[0m\u001b[1;33m:\u001b[0m\u001b[1;33m\u001b[0m\u001b[1;33m\u001b[0m\u001b[0m\n\u001b[1;32m--> 440\u001b[1;33m                 \u001b[0mmgr\u001b[0m \u001b[1;33m=\u001b[0m \u001b[0minit_ndarray\u001b[0m\u001b[1;33m(\u001b[0m\u001b[0mdata\u001b[0m\u001b[1;33m,\u001b[0m \u001b[0mindex\u001b[0m\u001b[1;33m,\u001b[0m \u001b[0mcolumns\u001b[0m\u001b[1;33m,\u001b[0m \u001b[0mdtype\u001b[0m\u001b[1;33m=\u001b[0m\u001b[0mdtype\u001b[0m\u001b[1;33m,\u001b[0m \u001b[0mcopy\u001b[0m\u001b[1;33m=\u001b[0m\u001b[0mcopy\u001b[0m\u001b[1;33m)\u001b[0m\u001b[1;33m\u001b[0m\u001b[1;33m\u001b[0m\u001b[0m\n\u001b[0m\u001b[0;32m    441\u001b[0m \u001b[1;33m\u001b[0m\u001b[0m\n\u001b[0;32m    442\u001b[0m         \u001b[1;31m# For data is list-like, or Iterable (will consume into list)\u001b[0m\u001b[1;33m\u001b[0m\u001b[1;33m\u001b[0m\u001b[1;33m\u001b[0m\u001b[0m\n",
      "\u001b[1;32mc:\\users\\lukas\\.virtualenvs\\implementierung-hib91jc7\\lib\\site-packages\\pandas\\core\\internals\\construction.py\u001b[0m in \u001b[0;36minit_ndarray\u001b[1;34m(values, index, columns, dtype, copy)\u001b[0m\n\u001b[0;32m    211\u001b[0m         \u001b[0mblock_values\u001b[0m \u001b[1;33m=\u001b[0m \u001b[1;33m[\u001b[0m\u001b[0mvalues\u001b[0m\u001b[1;33m]\u001b[0m\u001b[1;33m\u001b[0m\u001b[1;33m\u001b[0m\u001b[0m\n\u001b[0;32m    212\u001b[0m \u001b[1;33m\u001b[0m\u001b[0m\n\u001b[1;32m--> 213\u001b[1;33m     \u001b[1;32mreturn\u001b[0m \u001b[0mcreate_block_manager_from_blocks\u001b[0m\u001b[1;33m(\u001b[0m\u001b[0mblock_values\u001b[0m\u001b[1;33m,\u001b[0m \u001b[1;33m[\u001b[0m\u001b[0mcolumns\u001b[0m\u001b[1;33m,\u001b[0m \u001b[0mindex\u001b[0m\u001b[1;33m]\u001b[0m\u001b[1;33m)\u001b[0m\u001b[1;33m\u001b[0m\u001b[1;33m\u001b[0m\u001b[0m\n\u001b[0m\u001b[0;32m    214\u001b[0m \u001b[1;33m\u001b[0m\u001b[0m\n\u001b[0;32m    215\u001b[0m \u001b[1;33m\u001b[0m\u001b[0m\n",
      "\u001b[1;32mc:\\users\\lukas\\.virtualenvs\\implementierung-hib91jc7\\lib\\site-packages\\pandas\\core\\internals\\managers.py\u001b[0m in \u001b[0;36mcreate_block_manager_from_blocks\u001b[1;34m(blocks, axes)\u001b[0m\n\u001b[0;32m   1680\u001b[0m \u001b[1;33m\u001b[0m\u001b[0m\n\u001b[0;32m   1681\u001b[0m         \u001b[0mmgr\u001b[0m \u001b[1;33m=\u001b[0m \u001b[0mBlockManager\u001b[0m\u001b[1;33m(\u001b[0m\u001b[0mblocks\u001b[0m\u001b[1;33m,\u001b[0m \u001b[0maxes\u001b[0m\u001b[1;33m)\u001b[0m\u001b[1;33m\u001b[0m\u001b[1;33m\u001b[0m\u001b[0m\n\u001b[1;32m-> 1682\u001b[1;33m         \u001b[0mmgr\u001b[0m\u001b[1;33m.\u001b[0m\u001b[0m_consolidate_inplace\u001b[0m\u001b[1;33m(\u001b[0m\u001b[1;33m)\u001b[0m\u001b[1;33m\u001b[0m\u001b[1;33m\u001b[0m\u001b[0m\n\u001b[0m\u001b[0;32m   1683\u001b[0m         \u001b[1;32mreturn\u001b[0m \u001b[0mmgr\u001b[0m\u001b[1;33m\u001b[0m\u001b[1;33m\u001b[0m\u001b[0m\n\u001b[0;32m   1684\u001b[0m \u001b[1;33m\u001b[0m\u001b[0m\n",
      "\u001b[1;32mc:\\users\\lukas\\.virtualenvs\\implementierung-hib91jc7\\lib\\site-packages\\pandas\\core\\internals\\managers.py\u001b[0m in \u001b[0;36m_consolidate_inplace\u001b[1;34m(self)\u001b[0m\n\u001b[0;32m    935\u001b[0m     \u001b[1;32mdef\u001b[0m \u001b[0m_consolidate_inplace\u001b[0m\u001b[1;33m(\u001b[0m\u001b[0mself\u001b[0m\u001b[1;33m)\u001b[0m\u001b[1;33m:\u001b[0m\u001b[1;33m\u001b[0m\u001b[1;33m\u001b[0m\u001b[0m\n\u001b[0;32m    936\u001b[0m         \u001b[1;32mif\u001b[0m \u001b[1;32mnot\u001b[0m \u001b[0mself\u001b[0m\u001b[1;33m.\u001b[0m\u001b[0mis_consolidated\u001b[0m\u001b[1;33m(\u001b[0m\u001b[1;33m)\u001b[0m\u001b[1;33m:\u001b[0m\u001b[1;33m\u001b[0m\u001b[1;33m\u001b[0m\u001b[0m\n\u001b[1;32m--> 937\u001b[1;33m             \u001b[0mself\u001b[0m\u001b[1;33m.\u001b[0m\u001b[0mblocks\u001b[0m \u001b[1;33m=\u001b[0m \u001b[0mtuple\u001b[0m\u001b[1;33m(\u001b[0m\u001b[0m_consolidate\u001b[0m\u001b[1;33m(\u001b[0m\u001b[0mself\u001b[0m\u001b[1;33m.\u001b[0m\u001b[0mblocks\u001b[0m\u001b[1;33m)\u001b[0m\u001b[1;33m)\u001b[0m\u001b[1;33m\u001b[0m\u001b[1;33m\u001b[0m\u001b[0m\n\u001b[0m\u001b[0;32m    938\u001b[0m             \u001b[0mself\u001b[0m\u001b[1;33m.\u001b[0m\u001b[0m_is_consolidated\u001b[0m \u001b[1;33m=\u001b[0m \u001b[1;32mTrue\u001b[0m\u001b[1;33m\u001b[0m\u001b[1;33m\u001b[0m\u001b[0m\n\u001b[0;32m    939\u001b[0m             \u001b[0mself\u001b[0m\u001b[1;33m.\u001b[0m\u001b[0m_known_consolidated\u001b[0m \u001b[1;33m=\u001b[0m \u001b[1;32mTrue\u001b[0m\u001b[1;33m\u001b[0m\u001b[1;33m\u001b[0m\u001b[0m\n",
      "\u001b[1;32mc:\\users\\lukas\\.virtualenvs\\implementierung-hib91jc7\\lib\\site-packages\\pandas\\core\\internals\\managers.py\u001b[0m in \u001b[0;36m_consolidate\u001b[1;34m(blocks)\u001b[0m\n\u001b[0;32m   1911\u001b[0m     \u001b[1;32mfor\u001b[0m \u001b[1;33m(\u001b[0m\u001b[0m_can_consolidate\u001b[0m\u001b[1;33m,\u001b[0m \u001b[0mdtype\u001b[0m\u001b[1;33m)\u001b[0m\u001b[1;33m,\u001b[0m \u001b[0mgroup_blocks\u001b[0m \u001b[1;32min\u001b[0m \u001b[0mgrouper\u001b[0m\u001b[1;33m:\u001b[0m\u001b[1;33m\u001b[0m\u001b[1;33m\u001b[0m\u001b[0m\n\u001b[0;32m   1912\u001b[0m         merged_blocks = _merge_blocks(\n\u001b[1;32m-> 1913\u001b[1;33m             \u001b[0mlist\u001b[0m\u001b[1;33m(\u001b[0m\u001b[0mgroup_blocks\u001b[0m\u001b[1;33m)\u001b[0m\u001b[1;33m,\u001b[0m \u001b[0mdtype\u001b[0m\u001b[1;33m=\u001b[0m\u001b[0mdtype\u001b[0m\u001b[1;33m,\u001b[0m \u001b[0m_can_consolidate\u001b[0m\u001b[1;33m=\u001b[0m\u001b[0m_can_consolidate\u001b[0m\u001b[1;33m\u001b[0m\u001b[1;33m\u001b[0m\u001b[0m\n\u001b[0m\u001b[0;32m   1914\u001b[0m         )\n\u001b[0;32m   1915\u001b[0m         \u001b[0mnew_blocks\u001b[0m \u001b[1;33m=\u001b[0m \u001b[0m_extend_blocks\u001b[0m\u001b[1;33m(\u001b[0m\u001b[0mmerged_blocks\u001b[0m\u001b[1;33m,\u001b[0m \u001b[0mnew_blocks\u001b[0m\u001b[1;33m)\u001b[0m\u001b[1;33m\u001b[0m\u001b[1;33m\u001b[0m\u001b[0m\n",
      "\u001b[1;32mc:\\users\\lukas\\.virtualenvs\\implementierung-hib91jc7\\lib\\site-packages\\pandas\\core\\internals\\blocks.py\u001b[0m in \u001b[0;36m_merge_blocks\u001b[1;34m(blocks, dtype, _can_consolidate)\u001b[0m\n\u001b[0;32m   3334\u001b[0m         \u001b[1;31m# FIXME: optimization potential in case all mgrs contain slices and\u001b[0m\u001b[1;33m\u001b[0m\u001b[1;33m\u001b[0m\u001b[1;33m\u001b[0m\u001b[0m\n\u001b[0;32m   3335\u001b[0m         \u001b[1;31m# combination of those slices is a slice, too.\u001b[0m\u001b[1;33m\u001b[0m\u001b[1;33m\u001b[0m\u001b[1;33m\u001b[0m\u001b[0m\n\u001b[1;32m-> 3336\u001b[1;33m         \u001b[0mnew_mgr_locs\u001b[0m \u001b[1;33m=\u001b[0m \u001b[0mnp\u001b[0m\u001b[1;33m.\u001b[0m\u001b[0mconcatenate\u001b[0m\u001b[1;33m(\u001b[0m\u001b[1;33m[\u001b[0m\u001b[0mb\u001b[0m\u001b[1;33m.\u001b[0m\u001b[0mmgr_locs\u001b[0m\u001b[1;33m.\u001b[0m\u001b[0mas_array\u001b[0m \u001b[1;32mfor\u001b[0m \u001b[0mb\u001b[0m \u001b[1;32min\u001b[0m \u001b[0mblocks\u001b[0m\u001b[1;33m]\u001b[0m\u001b[1;33m)\u001b[0m\u001b[1;33m\u001b[0m\u001b[1;33m\u001b[0m\u001b[0m\n\u001b[0m\u001b[0;32m   3337\u001b[0m         \u001b[0mnew_values\u001b[0m \u001b[1;33m=\u001b[0m \u001b[0mnp\u001b[0m\u001b[1;33m.\u001b[0m\u001b[0mvstack\u001b[0m\u001b[1;33m(\u001b[0m\u001b[1;33m[\u001b[0m\u001b[0mb\u001b[0m\u001b[1;33m.\u001b[0m\u001b[0mvalues\u001b[0m \u001b[1;32mfor\u001b[0m \u001b[0mb\u001b[0m \u001b[1;32min\u001b[0m \u001b[0mblocks\u001b[0m\u001b[1;33m]\u001b[0m\u001b[1;33m)\u001b[0m\u001b[1;33m\u001b[0m\u001b[1;33m\u001b[0m\u001b[0m\n\u001b[0;32m   3338\u001b[0m \u001b[1;33m\u001b[0m\u001b[0m\n",
      "\u001b[1;32m<__array_function__ internals>\u001b[0m in \u001b[0;36mconcatenate\u001b[1;34m(*args, **kwargs)\u001b[0m\n",
      "\u001b[1;31mKeyboardInterrupt\u001b[0m: "
     ]
    }
   ],
   "source": [
    "seeds = ['1', '2', '3', '4', '5', '6', '7', '8', '9', '10']\n",
    "comparisons = pd.DataFrame(columns=(\n",
    "    'seed',\n",
    "    'picks',\n",
    "    'time_to_start_stop',\n",
    "    'time_to_call',\n",
    "    'remote_travelling_speed',\n",
    "    'number_base_stops',\n",
    "    'number_mod_stops',\n",
    "    'number_remote_stops',\n",
    "    'base_mean_distance',\n",
    "    'mod_mean_distance',\n",
    "    'base_cost',\n",
    "    'mod_cost',\n",
    "    'stops_difference',\n",
    "    'cost_difference'\n",
    "))\n",
    "  \n",
    "\n",
    "t0 = datetime.now()\n",
    "for seed in seeds:\n",
    "    random = Random(seed)\n",
    "    \n",
    "    for i in range(1, max_picks+1):\n",
    "        \n",
    "        item_positions = generate_item_positions(aisle_length, i, random=random)\n",
    "        \n",
    "        for t_to_start_stop in times_to_start_stop: \n",
    "            base_result = optimal_stops(\n",
    "                item_positions, \n",
    "                aisle_width=aisle_width,\n",
    "                walking_speed=walking_speed,\n",
    "                time_to_start_stop=t_to_start_stop\n",
    "            )\n",
    "            for time_to_call in times_to_call:\n",
    "                for remote_travelling_speed in remote_travelling_speeds:\n",
    "                    mod_result = modified_optimal_stops(\n",
    "                        item_positions,\n",
    "                        aisle_width=aisle_width,\n",
    "                        walking_speed=walking_speed,\n",
    "                        time_to_start_stop=t_to_start_stop,\n",
    "                        time_to_call=time_to_call,\n",
    "                        remote_travelling_speed=remote_travelling_speed\n",
    "                    )\n",
    "                    base_distances, _ = ([0],[0]) if len(base_result[0]) <= 1 else \\\n",
    "                    zip(*calc_distances(\n",
    "                        base_result[0],\n",
    "                        aisle_width=aisle_width,\n",
    "                        time_to_mount=t_to_start_stop,\n",
    "                        walking_speed=walking_speed,\n",
    "                        time_to_call=time_to_call,\n",
    "                        remote_travelling_speed=remote_travelling_speed\n",
    "                    )) \n",
    "                    mod_distances, mod_travel_types = ([0],[0])  if len(mod_result[0]) <= 1 else \\\n",
    "                    zip(*calc_distances(\n",
    "                        mod_result[0],\n",
    "                        aisle_width=aisle_width,\n",
    "                        time_to_mount=t_to_start_stop,\n",
    "                        walking_speed=walking_speed,\n",
    "                        time_to_call=time_to_call,\n",
    "                        remote_travelling_speed=remote_travelling_speed\n",
    "                    ))\n",
    "                    \n",
    "                    comparisons = comparisons.append({\n",
    "                        'number_remote_stops': np.sum(mod_travel_types),\n",
    "                        'base_mean_distance': np.mean(base_distances),\n",
    "                        'mod_mean_distance': np.mean(mod_distances),\n",
    "                        'seed': seed,\n",
    "                        'picks': i,\n",
    "                        'time_to_start_stop': float(t_to_start_stop),\n",
    "                        'time_to_call': float(time_to_call),\n",
    "                        'remote_travelling_speed': float(remote_travelling_speed),\n",
    "                        'number_base_stops': float(len(base_result[0])),\n",
    "                        'number_mod_stops': float(len(mod_result[0])),\n",
    "                        'base_cost': float(base_result[1]),\n",
    "                        'mod_cost': float(mod_result[1]),\n",
    "                        'stops_difference': float(len(mod_result[0]) - len(base_result[0])),\n",
    "                        'cost_difference': float(mod_result[1] - base_result[1])\n",
    "                    }, ignore_index=True)\n",
    "\n",
    "comparisons.to_csv('comparisons-{}.csv'.format(comparisons.shape))\n",
    "'Elapsed time: {}, Shape: {}'.format(str(datetime.now() - t0), comparisons.shape)"
   ]
  },
  {
   "cell_type": "markdown",
   "metadata": {},
   "source": [
    "### Auswertung\n",
    "Angestellte Vergleiche:"
   ]
  },
  {
   "cell_type": "code",
   "execution_count": 29,
   "metadata": {},
   "outputs": [
    {
     "data": {
      "text/html": [
       "<div>\n",
       "<style scoped>\n",
       "    .dataframe tbody tr th:only-of-type {\n",
       "        vertical-align: middle;\n",
       "    }\n",
       "\n",
       "    .dataframe tbody tr th {\n",
       "        vertical-align: top;\n",
       "    }\n",
       "\n",
       "    .dataframe thead th {\n",
       "        text-align: right;\n",
       "    }\n",
       "</style>\n",
       "<table border=\"1\" class=\"dataframe\">\n",
       "  <thead>\n",
       "    <tr style=\"text-align: right;\">\n",
       "      <th></th>\n",
       "      <th>Unnamed: 0</th>\n",
       "      <th>seed</th>\n",
       "      <th>picks</th>\n",
       "      <th>time_to_start_stop</th>\n",
       "      <th>time_to_call</th>\n",
       "      <th>remote_travelling_speed</th>\n",
       "      <th>number_base_stops</th>\n",
       "      <th>number_mod_stops</th>\n",
       "      <th>number_remote_stops</th>\n",
       "      <th>base_mean_distance</th>\n",
       "      <th>mod_mean_distance</th>\n",
       "      <th>base_cost</th>\n",
       "      <th>mod_cost</th>\n",
       "      <th>stops_difference</th>\n",
       "      <th>cost_difference</th>\n",
       "    </tr>\n",
       "  </thead>\n",
       "  <tbody>\n",
       "    <tr>\n",
       "      <th>0</th>\n",
       "      <td>0</td>\n",
       "      <td>1</td>\n",
       "      <td>1</td>\n",
       "      <td>60.0</td>\n",
       "      <td>0.0</td>\n",
       "      <td>1.0</td>\n",
       "      <td>1.0</td>\n",
       "      <td>1.0</td>\n",
       "      <td>0</td>\n",
       "      <td>0.000000</td>\n",
       "      <td>0.000000</td>\n",
       "      <td>62.500000</td>\n",
       "      <td>62.500000</td>\n",
       "      <td>0.0</td>\n",
       "      <td>0.000000</td>\n",
       "    </tr>\n",
       "    <tr>\n",
       "      <th>1</th>\n",
       "      <td>1</td>\n",
       "      <td>1</td>\n",
       "      <td>1</td>\n",
       "      <td>60.0</td>\n",
       "      <td>0.0</td>\n",
       "      <td>2.0</td>\n",
       "      <td>1.0</td>\n",
       "      <td>1.0</td>\n",
       "      <td>0</td>\n",
       "      <td>0.000000</td>\n",
       "      <td>0.000000</td>\n",
       "      <td>62.500000</td>\n",
       "      <td>47.136480</td>\n",
       "      <td>0.0</td>\n",
       "      <td>-15.363520</td>\n",
       "    </tr>\n",
       "    <tr>\n",
       "      <th>2</th>\n",
       "      <td>2</td>\n",
       "      <td>1</td>\n",
       "      <td>1</td>\n",
       "      <td>60.0</td>\n",
       "      <td>0.0</td>\n",
       "      <td>5.0</td>\n",
       "      <td>1.0</td>\n",
       "      <td>1.0</td>\n",
       "      <td>0</td>\n",
       "      <td>0.000000</td>\n",
       "      <td>0.000000</td>\n",
       "      <td>62.500000</td>\n",
       "      <td>37.093272</td>\n",
       "      <td>0.0</td>\n",
       "      <td>-25.406728</td>\n",
       "    </tr>\n",
       "    <tr>\n",
       "      <th>3</th>\n",
       "      <td>3</td>\n",
       "      <td>1</td>\n",
       "      <td>1</td>\n",
       "      <td>60.0</td>\n",
       "      <td>0.0</td>\n",
       "      <td>10.0</td>\n",
       "      <td>1.0</td>\n",
       "      <td>1.0</td>\n",
       "      <td>0</td>\n",
       "      <td>0.000000</td>\n",
       "      <td>0.000000</td>\n",
       "      <td>62.500000</td>\n",
       "      <td>33.745536</td>\n",
       "      <td>0.0</td>\n",
       "      <td>-28.754464</td>\n",
       "    </tr>\n",
       "    <tr>\n",
       "      <th>4</th>\n",
       "      <td>4</td>\n",
       "      <td>1</td>\n",
       "      <td>1</td>\n",
       "      <td>60.0</td>\n",
       "      <td>0.0</td>\n",
       "      <td>inf</td>\n",
       "      <td>1.0</td>\n",
       "      <td>1.0</td>\n",
       "      <td>0</td>\n",
       "      <td>0.000000</td>\n",
       "      <td>0.000000</td>\n",
       "      <td>62.500000</td>\n",
       "      <td>30.397800</td>\n",
       "      <td>0.0</td>\n",
       "      <td>-32.102200</td>\n",
       "    </tr>\n",
       "    <tr>\n",
       "      <th>...</th>\n",
       "      <td>...</td>\n",
       "      <td>...</td>\n",
       "      <td>...</td>\n",
       "      <td>...</td>\n",
       "      <td>...</td>\n",
       "      <td>...</td>\n",
       "      <td>...</td>\n",
       "      <td>...</td>\n",
       "      <td>...</td>\n",
       "      <td>...</td>\n",
       "      <td>...</td>\n",
       "      <td>...</td>\n",
       "      <td>...</td>\n",
       "      <td>...</td>\n",
       "      <td>...</td>\n",
       "    </tr>\n",
       "    <tr>\n",
       "      <th>49995</th>\n",
       "      <td>49995</td>\n",
       "      <td>10</td>\n",
       "      <td>40</td>\n",
       "      <td>5.0</td>\n",
       "      <td>10.0</td>\n",
       "      <td>1.0</td>\n",
       "      <td>10.0</td>\n",
       "      <td>10.0</td>\n",
       "      <td>0</td>\n",
       "      <td>7.098033</td>\n",
       "      <td>7.098033</td>\n",
       "      <td>169.608962</td>\n",
       "      <td>169.608962</td>\n",
       "      <td>0.0</td>\n",
       "      <td>0.000000</td>\n",
       "    </tr>\n",
       "    <tr>\n",
       "      <th>49996</th>\n",
       "      <td>49996</td>\n",
       "      <td>10</td>\n",
       "      <td>40</td>\n",
       "      <td>5.0</td>\n",
       "      <td>10.0</td>\n",
       "      <td>2.0</td>\n",
       "      <td>10.0</td>\n",
       "      <td>10.0</td>\n",
       "      <td>0</td>\n",
       "      <td>7.098033</td>\n",
       "      <td>7.098033</td>\n",
       "      <td>169.608962</td>\n",
       "      <td>169.608962</td>\n",
       "      <td>0.0</td>\n",
       "      <td>0.000000</td>\n",
       "    </tr>\n",
       "    <tr>\n",
       "      <th>49997</th>\n",
       "      <td>49997</td>\n",
       "      <td>10</td>\n",
       "      <td>40</td>\n",
       "      <td>5.0</td>\n",
       "      <td>10.0</td>\n",
       "      <td>5.0</td>\n",
       "      <td>10.0</td>\n",
       "      <td>10.0</td>\n",
       "      <td>0</td>\n",
       "      <td>7.098033</td>\n",
       "      <td>7.098033</td>\n",
       "      <td>169.608962</td>\n",
       "      <td>169.608962</td>\n",
       "      <td>0.0</td>\n",
       "      <td>0.000000</td>\n",
       "    </tr>\n",
       "    <tr>\n",
       "      <th>49998</th>\n",
       "      <td>49998</td>\n",
       "      <td>10</td>\n",
       "      <td>40</td>\n",
       "      <td>5.0</td>\n",
       "      <td>10.0</td>\n",
       "      <td>10.0</td>\n",
       "      <td>10.0</td>\n",
       "      <td>10.0</td>\n",
       "      <td>0</td>\n",
       "      <td>7.098033</td>\n",
       "      <td>7.098033</td>\n",
       "      <td>169.608962</td>\n",
       "      <td>169.608962</td>\n",
       "      <td>0.0</td>\n",
       "      <td>0.000000</td>\n",
       "    </tr>\n",
       "    <tr>\n",
       "      <th>49999</th>\n",
       "      <td>49999</td>\n",
       "      <td>10</td>\n",
       "      <td>40</td>\n",
       "      <td>5.0</td>\n",
       "      <td>10.0</td>\n",
       "      <td>inf</td>\n",
       "      <td>10.0</td>\n",
       "      <td>10.0</td>\n",
       "      <td>0</td>\n",
       "      <td>7.098033</td>\n",
       "      <td>7.098033</td>\n",
       "      <td>169.608962</td>\n",
       "      <td>169.608962</td>\n",
       "      <td>0.0</td>\n",
       "      <td>0.000000</td>\n",
       "    </tr>\n",
       "  </tbody>\n",
       "</table>\n",
       "<p>50000 rows × 15 columns</p>\n",
       "</div>"
      ],
      "text/plain": [
       "       Unnamed: 0  seed  picks  time_to_start_stop  time_to_call  \\\n",
       "0               0     1      1                60.0           0.0   \n",
       "1               1     1      1                60.0           0.0   \n",
       "2               2     1      1                60.0           0.0   \n",
       "3               3     1      1                60.0           0.0   \n",
       "4               4     1      1                60.0           0.0   \n",
       "...           ...   ...    ...                 ...           ...   \n",
       "49995       49995    10     40                 5.0          10.0   \n",
       "49996       49996    10     40                 5.0          10.0   \n",
       "49997       49997    10     40                 5.0          10.0   \n",
       "49998       49998    10     40                 5.0          10.0   \n",
       "49999       49999    10     40                 5.0          10.0   \n",
       "\n",
       "       remote_travelling_speed  number_base_stops  number_mod_stops  \\\n",
       "0                          1.0                1.0               1.0   \n",
       "1                          2.0                1.0               1.0   \n",
       "2                          5.0                1.0               1.0   \n",
       "3                         10.0                1.0               1.0   \n",
       "4                          inf                1.0               1.0   \n",
       "...                        ...                ...               ...   \n",
       "49995                      1.0               10.0              10.0   \n",
       "49996                      2.0               10.0              10.0   \n",
       "49997                      5.0               10.0              10.0   \n",
       "49998                     10.0               10.0              10.0   \n",
       "49999                      inf               10.0              10.0   \n",
       "\n",
       "       number_remote_stops  base_mean_distance  mod_mean_distance   base_cost  \\\n",
       "0                        0            0.000000           0.000000   62.500000   \n",
       "1                        0            0.000000           0.000000   62.500000   \n",
       "2                        0            0.000000           0.000000   62.500000   \n",
       "3                        0            0.000000           0.000000   62.500000   \n",
       "4                        0            0.000000           0.000000   62.500000   \n",
       "...                    ...                 ...                ...         ...   \n",
       "49995                    0            7.098033           7.098033  169.608962   \n",
       "49996                    0            7.098033           7.098033  169.608962   \n",
       "49997                    0            7.098033           7.098033  169.608962   \n",
       "49998                    0            7.098033           7.098033  169.608962   \n",
       "49999                    0            7.098033           7.098033  169.608962   \n",
       "\n",
       "         mod_cost  stops_difference  cost_difference  \n",
       "0       62.500000               0.0         0.000000  \n",
       "1       47.136480               0.0       -15.363520  \n",
       "2       37.093272               0.0       -25.406728  \n",
       "3       33.745536               0.0       -28.754464  \n",
       "4       30.397800               0.0       -32.102200  \n",
       "...           ...               ...              ...  \n",
       "49995  169.608962               0.0         0.000000  \n",
       "49996  169.608962               0.0         0.000000  \n",
       "49997  169.608962               0.0         0.000000  \n",
       "49998  169.608962               0.0         0.000000  \n",
       "49999  169.608962               0.0         0.000000  \n",
       "\n",
       "[50000 rows x 15 columns]"
      ]
     },
     "execution_count": 29,
     "metadata": {},
     "output_type": "execute_result"
    }
   ],
   "source": [
    "comparisons = pd.read_csv('comparisons-(50000, 14).csv')\n",
    "comparisons"
   ]
  },
  {
   "cell_type": "markdown",
   "metadata": {},
   "source": [
    "#### Anzahl der Stops\n",
    "Vergleich des originalen mit dem Erweiterten Algorithmus"
   ]
  },
  {
   "cell_type": "code",
   "execution_count": 26,
   "metadata": {},
   "outputs": [
    {
     "data": {
      "text/plain": [
       "number_base_stops    5.38300\n",
       "number_mod_stops     8.01942\n",
       "dtype: float64"
      ]
     },
     "execution_count": 26,
     "metadata": {},
     "output_type": "execute_result"
    }
   ],
   "source": [
    "comparisons[['number_base_stops','number_mod_stops']].mean()"
   ]
  },
  {
   "cell_type": "code",
   "execution_count": 153,
   "metadata": {},
   "outputs": [
    {
     "data": {
      "text/plain": [
       "<matplotlib.axes._subplots.AxesSubplot at 0x22025961b38>"
      ]
     },
     "execution_count": 153,
     "metadata": {},
     "output_type": "execute_result"
    },
    {
     "data": {
      "image/png": "[encoded data removed]",
      "text/plain": [
       "<Figure size 432x288 with 1 Axes>"
      ]
     },
     "metadata": {
      "needs_background": "light"
     },
     "output_type": "display_data"
    }
   ],
   "source": [
    "bp = pd.DataFrame(columns=('original', 'erweitert'))\n",
    "bp['original'] = comparisons['number_base_stops']\n",
    "bp['erweitert'] = comparisons['number_mod_stops']\n",
    "p = bp.boxplot(\n",
    "    rot=0,\n",
    "    vert=False,\n",
    "    grid=False,\n",
    "    #figsize=(10, 5),\n",
    "    fontsize=15,\n",
    ")\n",
    "p.set_xlabel('Anzahl an Stopps', fontsize=15)\n",
    "p"
   ]
  },
  {
   "cell_type": "code",
   "execution_count": 114,
   "metadata": {
    "scrolled": false
   },
   "outputs": [
    {
     "data": {
      "text/plain": [
       "<matplotlib.collections.PathCollection at 0x2201fa5cef0>"
      ]
     },
     "execution_count": 114,
     "metadata": {},
     "output_type": "execute_result"
    },
    {
     "data": {
      "image/png": "[encoded data removed]",
      "text/plain": [
       "<Figure size 432x288 with 1 Axes>"
      ]
     },
     "metadata": {
      "needs_background": "light"
     },
     "output_type": "display_data"
    }
   ],
   "source": [
    "xs = pd.concat((comparisons['number_mod_stops'], comparisons['number_base_stops']), ignore_index=True)\n",
    "ys = pd.concat((comparisons['mod_mean_distance'], comparisons['base_mean_distance']), ignore_index=True)\n",
    "colors = ['blue']*len(comparisons['number_mod_stops']) + ['red']* len(comparisons['number_base_stops'])\n",
    "plt.scatter(xs, ys, 1, c=colors, alpha=0.2)"
   ]
  },
  {
   "cell_type": "code",
   "execution_count": 158,
   "metadata": {},
   "outputs": [
    {
     "data": {
      "text/plain": [
       "2.6910829157337313"
      ]
     },
     "execution_count": 158,
     "metadata": {},
     "output_type": "execute_result"
    }
   ],
   "source": [
    "c1 = comparisons[comparisons['stops_difference'] != 0 ]\n",
    "np.mean(c1['number_remote_stops'] / c1['number_mod_stops'])\n",
    "np.mean(c1['number_remote_stops'] - c1['stops_difference'])"
   ]
  },
  {
   "cell_type": "markdown",
   "metadata": {},
   "source": [
    "#### Kostenwert"
   ]
  },
  {
   "cell_type": "code",
   "execution_count": 89,
   "metadata": {},
   "outputs": [
    {
     "data": {
      "text/plain": [
       "<matplotlib.axes._subplots.AxesSubplot at 0x2201c572828>"
      ]
     },
     "execution_count": 89,
     "metadata": {},
     "output_type": "execute_result"
    },
    {
     "data": {
      "image/png": "[encoded data removed]",
      "text/plain": [
       "<Figure size 432x288 with 1 Axes>"
      ]
     },
     "metadata": {
      "needs_background": "light"
     },
     "output_type": "display_data"
    }
   ],
   "source": [
    "comparisons.groupby([\n",
    "    'remote_travelling_speed',\n",
    "    'time_to_call'\n",
    "])[['cost_difference']].mean().plot.bar()"
   ]
  },
  {
   "cell_type": "code",
   "execution_count": 162,
   "metadata": {},
   "outputs": [
    {
     "data": {
      "text/plain": [
       "129.0434821315863"
      ]
     },
     "execution_count": 162,
     "metadata": {},
     "output_type": "execute_result"
    }
   ],
   "source": [
    "optimal_stop_euclidean([18, 44, 64, 125,140, 144, 165, 175], 25)"
   ]
  }
 ],
 "metadata": {
  "kernelspec": {
   "display_name": "Python 3",
   "language": "python",
   "name": "python3"
  },
  "language_info": {
   "codemirror_mode": {
    "name": "ipython",
    "version": 3
   },
   "file_extension": ".py",
   "mimetype": "text/x-python",
   "name": "python",
   "nbconvert_exporter": "python",
   "pygments_lexer": "ipython3",
   "version": "3.7.3"
  }
 },
 "nbformat": 4,
 "nbformat_minor": 2
}
