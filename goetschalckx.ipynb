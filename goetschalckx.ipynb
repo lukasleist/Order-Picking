{
 "cells": [
  {
   "cell_type": "markdown",
   "metadata": {},
   "source": [
    "# Algorithms for determinig cluster order picking strategies\n",
    "\n",
    "This notebook explains and demonstrates the algorithms for finding strategies for \"Cluster Order Picking\" proposed by Goetschalckx and Ratliff (1988)\n",
    "\n",
    "## Imports"
   ]
  },
  {
   "cell_type": "code",
   "execution_count": 1,
   "metadata": {},
   "outputs": [],
   "source": [
    "from math import sqrt"
   ]
  },
  {
   "cell_type": "markdown",
   "metadata": {},
   "source": [
    "## Beschreibung des Problems\n",
    "\n",
    "### Ziel\n",
    "Minimierung der Komissionierdauer für die gesamte Bestellung (picking-time)\n",
    "\n",
    "### Parameter\n",
    "- a) round-trip-walking-time\n",
    "- b) time-to-start-stop ($f$)\n",
    "- c) driving time (independent from stops)\n",
    "- d) time to pick items (independent from stops)\n",
    "- e) time to stack items (independent from stops)\n",
    "- distance from beginning of ailse to pick $i$: $a_{i}$\n",
    "- distance from beginning of aisle to stop $j$: $z_{j}$\n",
    "- width of aisle $A$\n",
    "- distance between stop $j$ and pick $i$: $d_{ji }$ (Siehe Distanzmaße)\n",
    "- number of items to be picked in aisle $N$\n",
    "- Laufgeschwindigkeit des Kommissionierers zwischen Regalplatz und Komissionierfahrzeug: $v$\n",
    "- total time per stop (roundtriptime to picks) $c_{j}=f+ 2 \\sum_{i \\in P_{j}} d_{ij}/v$"
   ]
  },
  {
   "cell_type": "markdown",
   "metadata": {},
   "source": [
    "### Distanzmaße\n",
    "Der Algorithmus kann mit zwei verschiedenen Distanzmaßen verwendet werden. Praktisch sind die Ergebnisse, die mit den beiden Distanzmaßen meist identisch oder weichen nur sehr gering voneinander ab. Für den Praktischen Einsatz wird deshalb *Rectilinear*, aufgrund der geringeren Laufzeit empfohlen. (Zitat)\n",
    "\n",
    "#### Euclidean\n",
    "Distanz von stop $j$ zu pick $i$ bei einer Gangbreite von $A$ nach *euklidischem* Abstand:\n",
    "\n",
    "$$ d_{ij} = \\sqrt{(a_{i}-z_{j})^2+ (A/2)^2} $$"
   ]
  },
  {
   "cell_type": "code",
   "execution_count": 2,
   "metadata": {},
   "outputs": [],
   "source": [
    "def distance_euklidean(stop_position, pick_position, aisle_width):\n",
    "    return sqrt((pick_position - stop_position)**2+(aisle_width/2)**2)"
   ]
  },
  {
   "cell_type": "code",
   "execution_count": 3,
   "metadata": {},
   "outputs": [
    {
     "data": {
      "text/plain": [
       "3.640054944640259"
      ]
     },
     "execution_count": 3,
     "metadata": {},
     "output_type": "execute_result"
    }
   ],
   "source": [
    "# Example:\n",
    "distance_euklidean(3, 4, 7)"
   ]
  },
  {
   "cell_type": "markdown",
   "metadata": {},
   "source": [
    "#### Rectilinear\n",
    "Distanz von stop $j$ zu pick $i$ bei einer Gangbreite von $A$ nach *rectilinearem* Abstand:\n",
    "\n",
    "$$ d_{ij} = |(a_{i}-z_{j})| + (A/2) $$"
   ]
  },
  {
   "cell_type": "code",
   "execution_count": 4,
   "metadata": {},
   "outputs": [],
   "source": [
    "def distance_rectilinear(stop_position, pick_position, aisle_width):\n",
    "    return abs(pick_position - stop_position) + aisle_width/2"
   ]
  },
  {
   "cell_type": "code",
   "execution_count": 5,
   "metadata": {},
   "outputs": [
    {
     "data": {
      "text/plain": [
       "6.0"
      ]
     },
     "execution_count": 5,
     "metadata": {},
     "output_type": "execute_result"
    }
   ],
   "source": [
    "# Example:\n",
    "distance_rectilinear(3, 7, 4)"
   ]
  },
  {
   "cell_type": "markdown",
   "metadata": {},
   "source": [
    "## Kostenfunktion\n",
    "Da Ziel ist die Komissionierzeit zu minimieren, misst die Kostenkunktion die Dauer des Komissioniervorgangs.\n",
    "Die Kosten $c_{j}$ für eine Menge zu pickender Items $P_{j}$ bei einem Stop $j$ sind gegeben durch:\n",
    "$$ c_{j}=f+ 2 \\sum_{i \\in P_{j}} d_{ij}/v $$\n",
    "wobei die Berechnung abhängig von der Wahl des Distanzmaßes ist."
   ]
  },
  {
   "cell_type": "code",
   "execution_count": 6,
   "metadata": {},
   "outputs": [],
   "source": [
    "def cost_measure(item_positions, stop_position, walking_speed, time_to_start_stop, aisle_width,\n",
    "                 distance_measure):\n",
    "    return time_to_start_stop + 2*sum([distance_measure(stop_position, i, aisle_width)/walking_speed for i in item_positions])"
   ]
  },
  {
   "cell_type": "code",
   "execution_count": 7,
   "metadata": {},
   "outputs": [
    {
     "data": {
      "text/plain": [
       "20.60112615949154"
      ]
     },
     "execution_count": 7,
     "metadata": {},
     "output_type": "execute_result"
    }
   ],
   "source": [
    "# Example\n",
    "cost_measure([1,2,3,4], 2, 1, 2, 4, distance_euklidean)"
   ]
  },
  {
   "cell_type": "markdown",
   "metadata": {},
   "source": [
    "## Optimale Stops\n",
    "Algorithmus zur Bestimmung der Optimalen Stopstrategie bei frei positionierbaren stops\n",
    "### Eigenschaften:\n",
    "1. Items werden immer beim Stop mit der geringsten Entfernung aufgeladen.\n",
    "\n",
    "2. Items picked at the same stop are in one line on both sides by the order which does not contain cases picked at other stops.\n",
    "    - Blockstruktur: Alle Alle Items, die bei einem Stop aufgladen werden, liegen sind in einer ununterbrochenen Reihe (Block)\n",
    "\n",
    "3. Optimale Halteposition $z_{j}$ bei einer vorgegebenen Menge von zu ladenden Items $P_{j}$ mit *euklidischem* Distanzmaß (Iterativer Prozess): ( the optimal stoplocation ($z_{j}$) for a given set of picks $(P_{j})$ under *euclidean* distannce (single facility *Euclidean* location problem) is determined by (iterative procedure):\n",
    "$$z_{j}=\\frac{ \\sum_{i \\in P_{j}} a_{i}/d_{ij} }{\\sum_{i \\in P_{j}} 1/d_{ij}}$$"
   ]
  },
  {
   "cell_type": "code",
   "execution_count": 8,
   "metadata": {},
   "outputs": [],
   "source": [
    "def optimal_stop_euclidean(item_positions, aisle_width, starting_point=0, iterations=10):\n",
    "    z = starting_point\n",
    "    for _ in range(iterations):\n",
    "        distances = [distance_euklidean(z, a, aisle_width) for a in item_positions]\n",
    "        z = sum(a/d for (a,d) in zip(item_positions, distances)) / sum(1/d for d in distances)\n",
    "    return z"
   ]
  },
  {
   "cell_type": "code",
   "execution_count": 9,
   "metadata": {},
   "outputs": [
    {
     "data": {
      "text/plain": [
       "4.834449438734148"
      ]
     },
     "execution_count": 9,
     "metadata": {},
     "output_type": "execute_result"
    }
   ],
   "source": [
    "# Example\n",
    "optimal_stop_euclidean([2,5,7], 4)"
   ]
  },
  {
   "cell_type": "markdown",
   "metadata": {},
   "source": [
    "4. Optimale Halteposition $z_{j}$ bei einer vorgegebenen Menge von zu ladenden Items $P_{j}$ (aufsteigend sortiert) mit *rectilinearem* Distanzmaß:\n",
    "    - $|P_{j}|$ ungerade: Position des Items in der Mitte\n",
    "    - $|P_{j}|$ ungerade: Alle Positionen zwischen den beiden Mittleren sind optimal (Implementierung wählt die Mitte)"
   ]
  },
  {
   "cell_type": "code",
   "execution_count": 10,
   "metadata": {},
   "outputs": [],
   "source": [
    "def optimal_stop_rectilinear(item_positions, aisle_width):\n",
    "    sorted = list(item_positions) # copy list\n",
    "    length = len(sorted)\n",
    "    sorted.sort()\n",
    "    if length % 2:\n",
    "        return sorted[int(length/2)]\n",
    "    else:\n",
    "        return (sorted[int(length/2)] + sorted[int(length/2) -1])/2"
   ]
  },
  {
   "cell_type": "code",
   "execution_count": 11,
   "metadata": {},
   "outputs": [
    {
     "data": {
      "text/plain": [
       "7"
      ]
     },
     "execution_count": 11,
     "metadata": {},
     "output_type": "execute_result"
    }
   ],
   "source": [
    "# Example\n",
    "optimal_stop_rectilinear([2,5,7,100,1000], 4)"
   ]
  },
  {
   "cell_type": "markdown",
   "metadata": {},
   "source": [
    "## Dynamische Programmierung\n",
    "Implementierung, des Algorithmus"
   ]
  },
  {
   "cell_type": "code",
   "execution_count": 12,
   "metadata": {},
   "outputs": [],
   "source": [
    "def optimal_stops(item_positions, aisle_width,\n",
    "                  walking_speed,\n",
    "                  time_to_start_stop,\n",
    "                  distance_measure=distance_euklidean,\n",
    "                  optimal_stop_func=optimal_stop_euclidean,\n",
    "                  cost_measure=cost_measure):\n",
    "    \"\"\"\n",
    "    Calculates optimal number of stops and items picked per stop\n",
    "    :returns: list containing the optimal item sets and the target value for the calculated solution\n",
    "    \"\"\"\n",
    "    # Adding artificial first elemenmt\n",
    "    sorted_items = [0] + list(item_positions)\n",
    "    sorted_items.sort()\n",
    "    \n",
    "    # Adding artificial first element\n",
    "    path_lengths = [float('inf')] * len(sorted_items)\n",
    "    path_lengths[0] = 0\n",
    "    optimal_predecessors = [0] * len(sorted_items)\n",
    "    \n",
    "    for index, item in enumerate(sorted_items[1:], 1):\n",
    "        #print('Item: {} at index: {}'.format(item, index))\n",
    "        for pred_index, pred_item in enumerate(sorted_items[:index]):\n",
    "            #print(pred_item, pred_index)\n",
    "            item_set = sorted_items[pred_index+1:index+1]\n",
    "            optimal_location = optimal_stop_func(item_set, aisle_width=aisle_width)\n",
    "            arc_length = cost_measure(\n",
    "                item_set,\n",
    "                stop_position=optimal_location,\n",
    "                walking_speed=walking_speed,\n",
    "                time_to_start_stop=time_to_start_stop,\n",
    "                aisle_width=aisle_width,\n",
    "                distance_measure=distance_measure\n",
    "            )\n",
    "            #print('\\tItem Set: {}, Optimal Location: {}, Arc Length: {}'.format(item_set, optimal_location, arc_length))\n",
    "            #print('\\tOld Path Length: {}, New Path length: {}'.format(path_lengths[index], (path_lengths[pred_index] + arc_length)))\n",
    "            if path_lengths[index] > (path_lengths[pred_index] + arc_length):\n",
    "                #print('\\tnew: {}, pred: {}'.format(index, pred_index))\n",
    "                path_lengths[index] = path_lengths[pred_index] + arc_length\n",
    "                optimal_predecessors[index] = pred_index\n",
    "    \n",
    "    target_value = path_lengths[-1]\n",
    "    item_sets = list()\n",
    "    index = len(optimal_predecessors) - 1\n",
    "    while index > 0:\n",
    "        pred_index = optimal_predecessors[index]\n",
    "        item_sets.append(tuple(sorted_items[pred_index+1:index+1]))\n",
    "        index = pred_index\n",
    "    item_sets.reverse()\n",
    "    return item_sets, target_value"
   ]
  },
  {
   "cell_type": "code",
   "execution_count": 13,
   "metadata": {},
   "outputs": [
    {
     "data": {
      "text/plain": [
       "([(0, 1, 2), (2000, 2000)], 3.1656854249520645)"
      ]
     },
     "execution_count": 13,
     "metadata": {},
     "output_type": "execute_result"
    }
   ],
   "source": [
    "# Example\n",
    "item_positions = [2000,2000,2, 1, 0]\n",
    "optimal_stops(item_positions, aisle_width=2, walking_speed=10, time_to_start_stop=1)"
   ]
  },
  {
   "cell_type": "code",
   "execution_count": null,
   "metadata": {},
   "outputs": [],
   "source": []
  }
 ],
 "metadata": {
  "kernelspec": {
   "display_name": "Python 3",
   "language": "python",
   "name": "python3"
  },
  "language_info": {
   "codemirror_mode": {
    "name": "ipython",
    "version": 3
   },
   "file_extension": ".py",
   "mimetype": "text/x-python",
   "name": "python",
   "nbconvert_exporter": "python",
   "pygments_lexer": "ipython3",
   "version": "3.7.3"
  }
 },
 "nbformat": 4,
 "nbformat_minor": 2
}
